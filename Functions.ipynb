{
 "cells": [
  {
   "cell_type": "code",
   "execution_count": 14,
   "id": "46cb37f3",
   "metadata": {},
   "outputs": [
    {
     "name": "stdout",
     "output_type": "stream",
     "text": [
      "11\n",
      "-1\n",
      "30\n",
      "0.5\n"
     ]
    }
   ],
   "source": [
    "#Name:Harshini\n",
    "#date:2/19/2025\n",
    "#Desciption:Basic python functions for reuseable and increasing modularity \n",
    "# def : keyword ,function:name and (arguments)\n",
    "def add(a,b):\n",
    "    add=a+b\n",
    "    return add  \n",
    "def sub (d,e):\n",
    "    sub=d-e\n",
    "    return sub\n",
    "def mul (d,e):\n",
    "    mul=d*e\n",
    "    return mul\n",
    "def div (d,e):\n",
    "    div=d/e\n",
    "    return div\n",
    "\n",
    "#calling functions:\n",
    "print(add(5,6))\n",
    "print(sub(5,6))\n",
    "print(mul(5,6))\n",
    "print(div(1,2))\n"
   ]
  },
  {
   "cell_type": "code",
   "execution_count": null,
   "id": "f0e85bc1",
   "metadata": {},
   "outputs": [],
   "source": []
  }
 ],
 "metadata": {
  "kernelspec": {
   "display_name": "Python 3",
   "language": "python",
   "name": "python3"
  },
  "language_info": {
   "codemirror_mode": {
    "name": "ipython",
    "version": 3
   },
   "file_extension": ".py",
   "mimetype": "text/x-python",
   "name": "python",
   "nbconvert_exporter": "python",
   "pygments_lexer": "ipython3",
   "version": "3.8.8"
  }
 },
 "nbformat": 4,
 "nbformat_minor": 5
}
